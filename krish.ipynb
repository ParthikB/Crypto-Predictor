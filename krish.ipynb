{
  "nbformat": 4,
  "nbformat_minor": 0,
  "metadata": {
    "kernelspec": {
      "name": "python3",
      "display_name": "Python 3"
    },
    "language_info": {
      "codemirror_mode": {
        "name": "ipython",
        "version": 3
      },
      "file_extension": ".py",
      "mimetype": "text/x-python",
      "name": "python",
      "nbconvert_exporter": "python",
      "pygments_lexer": "ipython3",
      "version": "3.6.9"
    },
    "colab": {
      "name": "main.ipynb",
      "provenance": [],
      "toc_visible": true,
      "include_colab_link": true
    },
    "accelerator": "GPU"
  },
  "cells": [
    {
      "cell_type": "markdown",
      "metadata": {
        "id": "view-in-github",
        "colab_type": "text"
      },
      "source": [
        "<a href=\"https://colab.research.google.com/github/ParthikB/Crypto-Predictor/blob/master/krish.ipynb\" target=\"_parent\"><img src=\"https://colab.research.google.com/assets/colab-badge.svg\" alt=\"Open In Colab\"/></a>"
      ]
    },
    {
      "cell_type": "code",
      "metadata": {
        "id": "qrw8Ae6DEH_4",
        "colab_type": "code",
        "colab": {
          "base_uri": "https://localhost:8080/",
          "height": 34
        },
        "outputId": "48ab5d92-02a9-416a-9fbc-643e07419da2"
      },
      "source": [
        "from google.colab import drive\n",
        "drive.mount('/content/drive')"
      ],
      "execution_count": 5,
      "outputs": [
        {
          "output_type": "stream",
          "text": [
            "Drive already mounted at /content/drive; to attempt to forcibly remount, call drive.mount(\"/content/drive\", force_remount=True).\n"
          ],
          "name": "stdout"
        }
      ]
    },
    {
      "cell_type": "code",
      "metadata": {
        "id": "tFTA0WWvDyqr",
        "colab_type": "code",
        "colab": {
          "base_uri": "https://localhost:8080/",
          "height": 51
        },
        "outputId": "e20110b8-4832-4147-bb38-bec95f7fa59e"
      },
      "source": [
        "import warnings\n",
        "warnings.filterwarnings(\"ignore\", category=FutureWarning)\n",
        "\n",
        "import keras\n",
        "from keras.models import Sequential\n",
        "from keras.layers import Dropout, LSTM, Dense\n",
        "\n",
        "from sklearn.preprocessing import MinMaxScaler\n",
        "\n",
        "import pandas as pd\n",
        "import numpy as np\n",
        "import matplotlib.pyplot as plt\n",
        "from datetime import datetime\n",
        "\n",
        "%matplotlib inline\n",
        "%load_ext tensorboard"
      ],
      "execution_count": 13,
      "outputs": [
        {
          "output_type": "stream",
          "text": [
            "The tensorboard extension is already loaded. To reload it, use:\n",
            "  %reload_ext tensorboard\n"
          ],
          "name": "stdout"
        }
      ]
    },
    {
      "cell_type": "markdown",
      "metadata": {
        "id": "_WrEIJ1jImK0",
        "colab_type": "text"
      },
      "source": [
        "### Variables"
      ]
    },
    {
      "cell_type": "code",
      "metadata": {
        "id": "52BiF85OIUte",
        "colab_type": "code",
        "colab": {}
      },
      "source": [
        "DATASET_PATH = '/content/drive/My Drive/Colab Notebooks/RNN_algorithmic trading/datasets/Binance_BTCUSDT_d.csv'\n",
        "COL          = 'Open' # The column to predict\n",
        "TIME_STAMP   = 60     # For how many time-stamps prediction has to be made\n",
        "EPOCHS       = 100    # Number of Epochs\n",
        "BATCH_SIZE   = 32     # Batch Size"
      ],
      "execution_count": 0,
      "outputs": []
    },
    {
      "cell_type": "code",
      "metadata": {
        "id": "6LJilh47Dyqx",
        "colab_type": "code",
        "colab": {
          "base_uri": "https://localhost:8080/",
          "height": 235
        },
        "outputId": "c2718e64-2355-4940-e428-2ebda85a90aa"
      },
      "source": [
        "# Reading the DATASET\n",
        "df = pd.read_csv(DATASET_PATH)\n",
        "\n",
        "# Converting the 'Date' column into pandas date_time format\n",
        "df['Date'] = df['Date'].apply(pd.to_datetime)\n",
        "\n",
        "# Setting the 'Date' col to be the index\n",
        "df.index = df['Date']\n",
        "\n",
        "# Sorting the Dataset on the basis of the index\n",
        "df.sort_index(inplace=True)\n",
        "\n",
        "df.head()"
      ],
      "execution_count": 16,
      "outputs": [
        {
          "output_type": "execute_result",
          "data": {
            "text/html": [
              "<div>\n",
              "<style scoped>\n",
              "    .dataframe tbody tr th:only-of-type {\n",
              "        vertical-align: middle;\n",
              "    }\n",
              "\n",
              "    .dataframe tbody tr th {\n",
              "        vertical-align: top;\n",
              "    }\n",
              "\n",
              "    .dataframe thead th {\n",
              "        text-align: right;\n",
              "    }\n",
              "</style>\n",
              "<table border=\"1\" class=\"dataframe\">\n",
              "  <thead>\n",
              "    <tr style=\"text-align: right;\">\n",
              "      <th></th>\n",
              "      <th>Date</th>\n",
              "      <th>Symbol</th>\n",
              "      <th>Open</th>\n",
              "      <th>High</th>\n",
              "      <th>Low</th>\n",
              "      <th>Close</th>\n",
              "      <th>Volume BTC</th>\n",
              "      <th>Volume USDT</th>\n",
              "    </tr>\n",
              "    <tr>\n",
              "      <th>Date</th>\n",
              "      <th></th>\n",
              "      <th></th>\n",
              "      <th></th>\n",
              "      <th></th>\n",
              "      <th></th>\n",
              "      <th></th>\n",
              "      <th></th>\n",
              "      <th></th>\n",
              "    </tr>\n",
              "  </thead>\n",
              "  <tbody>\n",
              "    <tr>\n",
              "      <th>2017-01-09</th>\n",
              "      <td>2017-01-09</td>\n",
              "      <td>BTCUSDT</td>\n",
              "      <td>4724.89</td>\n",
              "      <td>4885.55</td>\n",
              "      <td>4654.88</td>\n",
              "      <td>4834.91</td>\n",
              "      <td>554.18</td>\n",
              "      <td>2634056.29</td>\n",
              "    </tr>\n",
              "    <tr>\n",
              "      <th>2017-01-10</th>\n",
              "      <td>2017-01-10</td>\n",
              "      <td>BTCUSDT</td>\n",
              "      <td>4378.51</td>\n",
              "      <td>4406.52</td>\n",
              "      <td>4240.04</td>\n",
              "      <td>4378.48</td>\n",
              "      <td>724.90</td>\n",
              "      <td>3128231.71</td>\n",
              "    </tr>\n",
              "    <tr>\n",
              "      <th>2017-01-11</th>\n",
              "      <td>2017-01-11</td>\n",
              "      <td>BTCUSDT</td>\n",
              "      <td>6463.00</td>\n",
              "      <td>6774.67</td>\n",
              "      <td>6338.02</td>\n",
              "      <td>6753.98</td>\n",
              "      <td>1659.85</td>\n",
              "      <td>10848260.96</td>\n",
              "    </tr>\n",
              "    <tr>\n",
              "      <th>2017-01-12</th>\n",
              "      <td>2017-01-12</td>\n",
              "      <td>BTCUSDT</td>\n",
              "      <td>9838.96</td>\n",
              "      <td>10898.00</td>\n",
              "      <td>9380.00</td>\n",
              "      <td>10782.99</td>\n",
              "      <td>6033.85</td>\n",
              "      <td>61238619.44</td>\n",
              "    </tr>\n",
              "    <tr>\n",
              "      <th>2017-02-09</th>\n",
              "      <td>2017-02-09</td>\n",
              "      <td>BTCUSDT</td>\n",
              "      <td>4834.91</td>\n",
              "      <td>4939.19</td>\n",
              "      <td>4286.87</td>\n",
              "      <td>4472.14</td>\n",
              "      <td>888.18</td>\n",
              "      <td>4072965.36</td>\n",
              "    </tr>\n",
              "  </tbody>\n",
              "</table>\n",
              "</div>"
            ],
            "text/plain": [
              "                 Date   Symbol     Open  ...     Close  Volume BTC  Volume USDT\n",
              "Date                                     ...                                   \n",
              "2017-01-09 2017-01-09  BTCUSDT  4724.89  ...   4834.91      554.18   2634056.29\n",
              "2017-01-10 2017-01-10  BTCUSDT  4378.51  ...   4378.48      724.90   3128231.71\n",
              "2017-01-11 2017-01-11  BTCUSDT  6463.00  ...   6753.98     1659.85  10848260.96\n",
              "2017-01-12 2017-01-12  BTCUSDT  9838.96  ...  10782.99     6033.85  61238619.44\n",
              "2017-02-09 2017-02-09  BTCUSDT  4834.91  ...   4472.14      888.18   4072965.36\n",
              "\n",
              "[5 rows x 8 columns]"
            ]
          },
          "metadata": {
            "tags": []
          },
          "execution_count": 16
        }
      ]
    },
    {
      "cell_type": "code",
      "metadata": {
        "id": "ywRajeSfDyq0",
        "colab_type": "code",
        "colab": {
          "base_uri": "https://localhost:8080/",
          "height": 51
        },
        "outputId": "f55d5aed-314a-4cbc-9d17-fde9963a2dea"
      },
      "source": [
        "# Seleting the column to predict\n",
        "data = df[COL]\n",
        "\n",
        "# Splitting the Data into Training and Test Set\n",
        "TRAIN_SPLIT_PERCENTAGE = 0.9\n",
        "part = (int(TRAIN_SPLIT_PERCENTAGE * len(data)))\n",
        "\n",
        "train_data = data[:part].values.reshape(-1, 1)\n",
        "test_data = data[part-TIME_STAMP:].values.reshape(-1, 1)\n",
        "\n",
        "print(f\"\"\"Size of Training Data : {len(train_data)}\n",
        "Size of Training Data : {len(test_data)}\"\"\")"
      ],
      "execution_count": 18,
      "outputs": [
        {
          "output_type": "stream",
          "text": [
            "Size of Training Data : 751\n",
            "Size of Training Data : 144\n"
          ],
          "name": "stdout"
        }
      ]
    },
    {
      "cell_type": "markdown",
      "metadata": {
        "id": "0c1igWpNDyq3",
        "colab_type": "text"
      },
      "source": [
        "### Data Preprocessing"
      ]
    },
    {
      "cell_type": "code",
      "metadata": {
        "id": "3yYxEL7cDyq4",
        "colab_type": "code",
        "colab": {}
      },
      "source": [
        "# SCALING the data from 0-1\n",
        "scale = MinMaxScaler(feature_range=(0,1))\n",
        "\n",
        "train_data = scale.fit_transform(train_data)\n",
        "test_data = scale.fit_transform(test_data)"
      ],
      "execution_count": 0,
      "outputs": []
    },
    {
      "cell_type": "markdown",
      "metadata": {
        "id": "Wy0QDBw2Dyq6",
        "colab_type": "text"
      },
      "source": [
        "### Creating X_train and Y_train"
      ]
    },
    {
      "cell_type": "code",
      "metadata": {
        "id": "GAnuUHO4Dyq7",
        "colab_type": "code",
        "colab": {}
      },
      "source": [
        "'''\n",
        "Making a rolling window of TIME_STAMP where the output will be the next value\n",
        "example output :\n",
        "x = [1, 2, 3] >> y = [4]\n",
        "x = [2, 3, 4] >> y = [5]\n",
        "x = [3, 4, 5] >> y = [6]\n",
        "here, TIME_STAMP = 3\n",
        "'''\n",
        "\n",
        "def create_data(data, TIME_STAMP=60):\n",
        "    X, Y = [], []\n",
        "    for i in range(TIME_STAMP, len(data)):\n",
        "        x = data[i-TIME_STAMP : i]\n",
        "        y = data[i]\n",
        "        X.append(x)\n",
        "        Y.append(y)\n",
        "    return np.array(X), np.array(Y)\n",
        "\n",
        "\n",
        "\n",
        "train_x, train_y = create_data(train_data, TIME_STAMP)\n",
        "test_x, test_y   = create_data(test_data, TIME_STAMP)\n",
        "\n",
        "# RESHAPING the Train/Test Features to match the Neural Network input dims\n",
        "train_x = train_x.reshape(train_x.shape[0], TIME_STAMP , input_dim)\n",
        "test_x  = test_x.reshape(test_x.shape[0], TIME_STAMP , input_dim)"
      ],
      "execution_count": 0,
      "outputs": []
    },
    {
      "cell_type": "markdown",
      "metadata": {
        "id": "JHmnYoaZDyq9",
        "colab_type": "text"
      },
      "source": [
        "## Creating the RNN"
      ]
    },
    {
      "cell_type": "code",
      "metadata": {
        "id": "uiW65QqZDyq-",
        "colab_type": "code",
        "colab": {}
      },
      "source": [
        "def create_model(input_data):\n",
        "    \n",
        "    # Defining a Model\n",
        "    model = Sequential()\n",
        "    \n",
        "    # Adding an LSTM Input Layer with input_shape=(TIME_STAMP, 1)\n",
        "    model.add(LSTM(units=50, return_sequences=True, input_shape=(input_data.shape[1], 1) ))\n",
        "    model.add(Dropout(0.2)) # Adding a Dropout Layer to Generalize and minimize Overfitting\n",
        "    \n",
        "    # Adding a few more LSTMs as Hidden Layers\n",
        "    model.add(LSTM(units=50, return_sequences=True))\n",
        "    model.add(Dropout(0.2))\n",
        "    \n",
        "    model.add(LSTM(units=50, return_sequences=True))\n",
        "    model.add(Dropout(0.2))\n",
        "    \n",
        "    model.add(LSTM(units=50))\n",
        "    model.add(Dropout(0.2))\n",
        "    \n",
        "    # Adding a Dense Output Layer with a Single output that wil give us our Prediction\n",
        "    model.add(Dense(units=1))\n",
        "    \n",
        "    model.compile(optimizer='adam', loss='mean_squared_error')\n",
        "    return model\n",
        "\n",
        "\n",
        "def generate_model(input_features, input_labels, EPOCHS=10, BATCH_SIZE=32, model=None):\n",
        "    \n",
        "#     logdir = \"logs/\"\n",
        "#     tensorboard_callback = keras.callbacks.TensorBoard(log_dir=logdir)\n",
        "    \n",
        "    # Creating a New model if no previously trained model is availble\n",
        "    if not model:\n",
        "        model = create_model(input_features)\n",
        "    \n",
        "    # Fitting the values into the model, basically Training!\n",
        "    model.fit(input_features, \n",
        "              input_labels, \n",
        "              epochs=EPOCHS, \n",
        "              batch_size=BATCH_SIZE,) \n",
        "#               verbose=0, \n",
        "#               callbacks=[tensorboard_callback])    \n",
        "    \n",
        "    return model\n",
        "\n",
        "\n",
        "\n",
        "EPOCHS     = 100\n",
        "BATCH_SIZE = 32\n",
        "\n",
        "# Load Model\n",
        "# model = keras.models.load_model('saved_model/my_model')\n",
        "\n",
        "model = generate_model(train_x, train_y, EPOCHS, BATCH_SIZE, model=None)\n",
        "\n",
        "final_loss = model.history.history['loss'][-1]\n",
        "\n",
        "# Save Model\n",
        "# model.save(f'/content/drive/My Drive/Colab Notebooks/RNN_algorithmic trading/models/model_{round(final_loss, 5)}')\n"
      ],
      "execution_count": 0,
      "outputs": []
    },
    {
      "cell_type": "code",
      "metadata": {
        "id": "a2tEbb3LDyrB",
        "colab_type": "code",
        "colab": {}
      },
      "source": [
        "predictions = model.predict(test_x)"
      ],
      "execution_count": 0,
      "outputs": []
    },
    {
      "cell_type": "code",
      "metadata": {
        "id": "FzXt4VySJdw-",
        "colab_type": "code",
        "colab": {}
      },
      "source": [
        "training_labels  = scale.inverse_transform(train_y)\n",
        "original_labels  = scale.inverse_transform(test_y)\n",
        "predicted_labels = scale.inverse_transform(predictions)"
      ],
      "execution_count": 0,
      "outputs": []
    },
    {
      "cell_type": "code",
      "metadata": {
        "id": "XN3AfaP0LU4w",
        "colab_type": "code",
        "colab": {
          "base_uri": "https://localhost:8080/",
          "height": 265
        },
        "outputId": "8bef4bf9-763c-49ae-9c92-8f64d5225298"
      },
      "source": [
        "plt.plot(original_labels)\n",
        "plt.plot(predicted_labels)\n",
        "plt.grid(1)"
      ],
      "execution_count": 43,
      "outputs": [
        {
          "output_type": "display_data",
          "data": {
            "image/png": "[encoded data removed]",
            "text/plain": [
              "<Figure size 432x288 with 1 Axes>"
            ]
          },
          "metadata": {
            "tags": []
          }
        }
      ]
    }
  ]
}