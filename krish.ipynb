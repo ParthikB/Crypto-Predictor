{
  "nbformat": 4,
  "nbformat_minor": 0,
  "metadata": {
    "kernelspec": {
      "name": "python3",
      "display_name": "Python 3"
    },
    "language_info": {
      "codemirror_mode": {
        "name": "ipython",
        "version": 3
      },
      "file_extension": ".py",
      "mimetype": "text/x-python",
      "name": "python",
      "nbconvert_exporter": "python",
      "pygments_lexer": "ipython3",
      "version": "3.6.9"
    },
    "colab": {
      "name": "main.ipynb",
      "provenance": [],
      "toc_visible": true,
      "include_colab_link": true
    },
    "accelerator": "GPU"
  },
  "cells": [
    {
      "cell_type": "markdown",
      "metadata": {
        "id": "view-in-github",
        "colab_type": "text"
      },
      "source": [
        "<a href=\"https://colab.research.google.com/github/ParthikB/Crypto-Predictor/blob/master/krish.ipynb\" target=\"_parent\"><img src=\"https://colab.research.google.com/assets/colab-badge.svg\" alt=\"Open In Colab\"/></a>"
      ]
    },
    {
      "cell_type": "code",
      "metadata": {
        "id": "qrw8Ae6DEH_4",
        "colab_type": "code",
        "colab": {
          "base_uri": "https://localhost:8080/",
          "height": 34
        },
        "outputId": "127e99eb-efb0-44d3-8782-4cda9ad1d7ad"
      },
      "source": [
        "from google.colab import drive\n",
        "drive.mount('/content/drive')"
      ],
      "execution_count": 8,
      "outputs": [
        {
          "output_type": "stream",
          "text": [
            "Drive already mounted at /content/drive; to attempt to forcibly remount, call drive.mount(\"/content/drive\", force_remount=True).\n"
          ],
          "name": "stdout"
        }
      ]
    },
    {
      "cell_type": "code",
      "metadata": {
        "id": "tFTA0WWvDyqr",
        "colab_type": "code",
        "colab": {
          "base_uri": "https://localhost:8080/",
          "height": 51
        },
        "outputId": "043c1ef6-60ea-4397-da3e-8b3e3b8ecefe"
      },
      "source": [
        "import warnings\n",
        "warnings.filterwarnings(\"ignore\", category=FutureWarning)\n",
        "\n",
        "import keras\n",
        "from keras.models import Sequential\n",
        "from keras.layers import Dropout, LSTM, Dense\n",
        "\n",
        "from sklearn.preprocessing import MinMaxScaler\n",
        "\n",
        "import pandas as pd\n",
        "import numpy as np\n",
        "import matplotlib.pyplot as plt\n",
        "from datetime import datetime\n",
        "\n",
        "%matplotlib inline\n",
        "%load_ext tensorboard"
      ],
      "execution_count": 7,
      "outputs": [
        {
          "output_type": "stream",
          "text": [
            "The tensorboard extension is already loaded. To reload it, use:\n",
            "  %reload_ext tensorboard\n"
          ],
          "name": "stdout"
        }
      ]
    },
    {
      "cell_type": "markdown",
      "metadata": {
        "id": "_WrEIJ1jImK0",
        "colab_type": "text"
      },
      "source": [
        "### Variables"
      ]
    },
    {
      "cell_type": "code",
      "metadata": {
        "id": "52BiF85OIUte",
        "colab_type": "code",
        "colab": {}
      },
      "source": [
        "DATASET_PATH = '/content/drive/My Drive/Colab Notebooks/RNN_algorithmic trading/datasets/Binance_BTCUSDT_d.csv'\n",
        "COL          = 'Open' # The column to predict\n",
        "TIME_STAMP   = 20     # For how many time-stamps prediction has to be made\n",
        "EPOCHS       = 50    # Number of Epochs\n",
        "BATCH_SIZE   = 64     # Batch Size"
      ],
      "execution_count": 0,
      "outputs": []
    },
    {
      "cell_type": "code",
      "metadata": {
        "id": "6LJilh47Dyqx",
        "colab_type": "code",
        "colab": {
          "base_uri": "https://localhost:8080/",
          "height": 235
        },
        "outputId": "c0061946-e67d-47ab-bd9a-40eb02c7cf69"
      },
      "source": [
        "# Reading the DATASET\n",
        "df = pd.read_csv(DATASET_PATH)\n",
        "\n",
        "# Reversing the Whole DataFrame (just for this Dataset)\n",
        "df = df .iloc[::-1]\n",
        "\n",
        "# # Converting the 'Date' column into pandas date_time format\n",
        "# df['Date'] = df['Date'].apply(pd.to_datetime)\n",
        "\n",
        "# # Setting the 'Date' col to be the index\n",
        "df.index = df['Date']\n",
        "\n",
        "# # Sorting the Dataset on the basis of the index\n",
        "# df.sort_index(inplace=True)\n",
        "\n",
        "df.head()"
      ],
      "execution_count": 10,
      "outputs": [
        {
          "output_type": "execute_result",
          "data": {
            "text/html": [
              "<div>\n",
              "<style scoped>\n",
              "    .dataframe tbody tr th:only-of-type {\n",
              "        vertical-align: middle;\n",
              "    }\n",
              "\n",
              "    .dataframe tbody tr th {\n",
              "        vertical-align: top;\n",
              "    }\n",
              "\n",
              "    .dataframe thead th {\n",
              "        text-align: right;\n",
              "    }\n",
              "</style>\n",
              "<table border=\"1\" class=\"dataframe\">\n",
              "  <thead>\n",
              "    <tr style=\"text-align: right;\">\n",
              "      <th></th>\n",
              "      <th>Date</th>\n",
              "      <th>Symbol</th>\n",
              "      <th>Open</th>\n",
              "      <th>High</th>\n",
              "      <th>Low</th>\n",
              "      <th>Close</th>\n",
              "      <th>Volume BTC</th>\n",
              "      <th>Volume USDT</th>\n",
              "    </tr>\n",
              "    <tr>\n",
              "      <th>Date</th>\n",
              "      <th></th>\n",
              "      <th></th>\n",
              "      <th></th>\n",
              "      <th></th>\n",
              "      <th></th>\n",
              "      <th></th>\n",
              "      <th></th>\n",
              "      <th></th>\n",
              "    </tr>\n",
              "  </thead>\n",
              "  <tbody>\n",
              "    <tr>\n",
              "      <th>17-08-2017</th>\n",
              "      <td>17-08-2017</td>\n",
              "      <td>BTCUSDT</td>\n",
              "      <td>4469.93</td>\n",
              "      <td>4485.39</td>\n",
              "      <td>4200.74</td>\n",
              "      <td>4285.08</td>\n",
              "      <td>647.86</td>\n",
              "      <td>2812379.11</td>\n",
              "    </tr>\n",
              "    <tr>\n",
              "      <th>18-08-2017</th>\n",
              "      <td>18-08-2017</td>\n",
              "      <td>BTCUSDT</td>\n",
              "      <td>4285.08</td>\n",
              "      <td>4371.52</td>\n",
              "      <td>3938.77</td>\n",
              "      <td>4108.37</td>\n",
              "      <td>1178.07</td>\n",
              "      <td>4994493.56</td>\n",
              "    </tr>\n",
              "    <tr>\n",
              "      <th>19-08-2017</th>\n",
              "      <td>19-08-2017</td>\n",
              "      <td>BTCUSDT</td>\n",
              "      <td>4108.37</td>\n",
              "      <td>4184.69</td>\n",
              "      <td>3850.00</td>\n",
              "      <td>4139.98</td>\n",
              "      <td>371.15</td>\n",
              "      <td>1508239.39</td>\n",
              "    </tr>\n",
              "    <tr>\n",
              "      <th>20-08-2017</th>\n",
              "      <td>20-08-2017</td>\n",
              "      <td>BTCUSDT</td>\n",
              "      <td>4139.98</td>\n",
              "      <td>4211.08</td>\n",
              "      <td>4032.62</td>\n",
              "      <td>4086.29</td>\n",
              "      <td>463.54</td>\n",
              "      <td>1915636.35</td>\n",
              "    </tr>\n",
              "    <tr>\n",
              "      <th>21-08-2017</th>\n",
              "      <td>21-08-2017</td>\n",
              "      <td>BTCUSDT</td>\n",
              "      <td>4086.29</td>\n",
              "      <td>4119.62</td>\n",
              "      <td>3911.79</td>\n",
              "      <td>4016.00</td>\n",
              "      <td>685.12</td>\n",
              "      <td>2770592.06</td>\n",
              "    </tr>\n",
              "  </tbody>\n",
              "</table>\n",
              "</div>"
            ],
            "text/plain": [
              "                  Date   Symbol     Open  ...    Close  Volume BTC  Volume USDT\n",
              "Date                                      ...                                  \n",
              "17-08-2017  17-08-2017  BTCUSDT  4469.93  ...  4285.08      647.86   2812379.11\n",
              "18-08-2017  18-08-2017  BTCUSDT  4285.08  ...  4108.37     1178.07   4994493.56\n",
              "19-08-2017  19-08-2017  BTCUSDT  4108.37  ...  4139.98      371.15   1508239.39\n",
              "20-08-2017  20-08-2017  BTCUSDT  4139.98  ...  4086.29      463.54   1915636.35\n",
              "21-08-2017  21-08-2017  BTCUSDT  4086.29  ...  4016.00      685.12   2770592.06\n",
              "\n",
              "[5 rows x 8 columns]"
            ]
          },
          "metadata": {
            "tags": []
          },
          "execution_count": 10
        }
      ]
    },
    {
      "cell_type": "code",
      "metadata": {
        "id": "ywRajeSfDyq0",
        "colab_type": "code",
        "colab": {
          "base_uri": "https://localhost:8080/",
          "height": 51
        },
        "outputId": "62ebd00e-5f5a-4e4a-d19c-9e799d0e0447"
      },
      "source": [
        "# Seleting the column to predict\n",
        "data = df[COL]\n",
        "\n",
        "# Splitting the Data into Training and Test Set\n",
        "TRAIN_SPLIT_PERCENTAGE = 0.99\n",
        "part = (int(TRAIN_SPLIT_PERCENTAGE * len(data)))\n",
        "\n",
        "train_data = data[:part].values.reshape(-1, 1)\n",
        "test_data = data[part-TIME_STAMP:].values.reshape(-1, 1)\n",
        "\n",
        "print(f\"\"\"Size of Training Data : {len(train_data)}\n",
        "Size of Testing Data  : {len(test_data)}\"\"\")"
      ],
      "execution_count": 11,
      "outputs": [
        {
          "output_type": "stream",
          "text": [
            "Size of Training Data : 826\n",
            "Size of Testing Data  : 29\n"
          ],
          "name": "stdout"
        }
      ]
    },
    {
      "cell_type": "markdown",
      "metadata": {
        "id": "0c1igWpNDyq3",
        "colab_type": "text"
      },
      "source": [
        "### Data Preprocessing"
      ]
    },
    {
      "cell_type": "code",
      "metadata": {
        "id": "3yYxEL7cDyq4",
        "colab_type": "code",
        "colab": {}
      },
      "source": [
        "# SCALING the data from 0-1\n",
        "scale = MinMaxScaler(feature_range=(0,1))\n",
        "\n",
        "train_data = scale.fit_transform(train_data)\n",
        "test_data = scale.fit_transform(test_data)"
      ],
      "execution_count": 0,
      "outputs": []
    },
    {
      "cell_type": "markdown",
      "metadata": {
        "id": "Wy0QDBw2Dyq6",
        "colab_type": "text"
      },
      "source": [
        "### Creating X_train and Y_train"
      ]
    },
    {
      "cell_type": "code",
      "metadata": {
        "id": "GAnuUHO4Dyq7",
        "colab_type": "code",
        "colab": {}
      },
      "source": [
        "'''\n",
        "Making a rolling window of TIME_STAMP where the output will be the next value\n",
        "example output :\n",
        "x = [1, 2, 3] >> y = [4]\n",
        "x = [2, 3, 4] >> y = [5]\n",
        "x = [3, 4, 5] >> y = [6]\n",
        "here, TIME_STAMP = 3\n",
        "'''\n",
        "\n",
        "def create_data(data, TIME_STAMP=60):\n",
        "    X, Y = [], []\n",
        "    for i in range(TIME_STAMP, len(data)):\n",
        "        x = data[i-TIME_STAMP : i]\n",
        "        y = data[i]\n",
        "        X.append(x)\n",
        "        Y.append(y)\n",
        "    return np.array(X), np.array(Y)\n",
        "\n",
        "\n",
        "\n",
        "train_x, train_y = create_data(train_data, TIME_STAMP)\n",
        "test_x, test_y   = create_data(test_data, TIME_STAMP)\n",
        "\n",
        "# RESHAPING the Train/Test Features to match the Neural Network input dims\n",
        "train_x = train_x.reshape(train_x.shape[0], TIME_STAMP , 1)\n",
        "test_x  = test_x.reshape(test_x.shape[0], TIME_STAMP , 1)"
      ],
      "execution_count": 0,
      "outputs": []
    },
    {
      "cell_type": "markdown",
      "metadata": {
        "id": "JHmnYoaZDyq9",
        "colab_type": "text"
      },
      "source": [
        "## Creating the RNN"
      ]
    },
    {
      "cell_type": "code",
      "metadata": {
        "id": "uiW65QqZDyq-",
        "colab_type": "code",
        "colab": {
          "base_uri": "https://localhost:8080/",
          "height": 1000
        },
        "outputId": "d6ad8d10-8a58-408b-dd81-5585e542b109"
      },
      "source": [
        "def create_model(input_data):\n",
        "    \n",
        "    # Defining a Model\n",
        "    model = Sequential()\n",
        "    \n",
        "    # Adding an LSTM Input Layer with input_shape=(TIME_STAMP, 1)\n",
        "    model.add(LSTM(units=50, return_sequences=True, input_shape=(input_data.shape[1], 1) ))\n",
        "    model.add(Dropout(0.2)) # Adding a Dropout Layer to Generalize and minimize Overfitting\n",
        "    \n",
        "    # Adding a few more LSTMs as Hidden Layers\n",
        "    model.add(LSTM(units=50, return_sequences=True))\n",
        "    model.add(Dropout(0.2))\n",
        "    \n",
        "    model.add(LSTM(units=50, return_sequences=True))\n",
        "    model.add(Dropout(0.2))\n",
        "    \n",
        "    model.add(LSTM(units=50))\n",
        "    model.add(Dropout(0.2))\n",
        "    \n",
        "    # Adding a Dense Output Layer with a Single output that wil give us our Prediction\n",
        "    model.add(Dense(units=1))\n",
        "    \n",
        "    model.compile(optimizer='adam', loss='mean_squared_error')\n",
        "    return model\n",
        "\n",
        "\n",
        "def generate_model(input_features, input_labels, EPOCHS=10, BATCH_SIZE=32, model=None):\n",
        "    \n",
        "#     logdir = \"logs/\"\n",
        "#     tensorboard_callback = keras.callbacks.TensorBoard(log_dir=logdir)\n",
        "    \n",
        "    # Creating a New model if no previously trained model is availble\n",
        "    if not model:\n",
        "        model = create_model(input_features)\n",
        "    \n",
        "    # Fitting the values into the model, basically Training!\n",
        "    model.fit(input_features, \n",
        "              input_labels, \n",
        "              epochs=EPOCHS, \n",
        "              batch_size=BATCH_SIZE,) \n",
        "#               verbose=0, \n",
        "#               callbacks=[tensorboard_callback])    \n",
        "    \n",
        "    return model\n",
        "\n",
        "\n",
        "\n",
        "# Load Model\n",
        "# model = keras.models.load_model('saved_model/my_model')\n",
        "\n",
        "model = generate_model(train_x, train_y, EPOCHS, BATCH_SIZE, model=None)\n",
        "\n",
        "final_loss = model.history.history['loss'][-1]\n",
        "\n",
        "# Save Model\n",
        "model.save(f'/content/drive/My Drive/Colab Notebooks/RNN_algorithmic trading/models/model_ts{TIME_STAMP}_loss{round(final_loss, 5)}')\n"
      ],
      "execution_count": 15,
      "outputs": [
        {
          "output_type": "stream",
          "text": [
            "WARNING:tensorflow:From /usr/local/lib/python3.6/dist-packages/keras/backend/tensorflow_backend.py:66: The name tf.get_default_graph is deprecated. Please use tf.compat.v1.get_default_graph instead.\n",
            "\n",
            "WARNING:tensorflow:From /usr/local/lib/python3.6/dist-packages/keras/backend/tensorflow_backend.py:541: The name tf.placeholder is deprecated. Please use tf.compat.v1.placeholder instead.\n",
            "\n",
            "WARNING:tensorflow:From /usr/local/lib/python3.6/dist-packages/keras/backend/tensorflow_backend.py:4432: The name tf.random_uniform is deprecated. Please use tf.random.uniform instead.\n",
            "\n",
            "WARNING:tensorflow:From /usr/local/lib/python3.6/dist-packages/keras/backend/tensorflow_backend.py:148: The name tf.placeholder_with_default is deprecated. Please use tf.compat.v1.placeholder_with_default instead.\n",
            "\n",
            "WARNING:tensorflow:From /usr/local/lib/python3.6/dist-packages/keras/backend/tensorflow_backend.py:3733: calling dropout (from tensorflow.python.ops.nn_ops) with keep_prob is deprecated and will be removed in a future version.\n",
            "Instructions for updating:\n",
            "Please use `rate` instead of `keep_prob`. Rate should be set to `rate = 1 - keep_prob`.\n",
            "WARNING:tensorflow:From /usr/local/lib/python3.6/dist-packages/keras/optimizers.py:793: The name tf.train.Optimizer is deprecated. Please use tf.compat.v1.train.Optimizer instead.\n",
            "\n",
            "WARNING:tensorflow:From /usr/local/lib/python3.6/dist-packages/tensorflow_core/python/ops/math_grad.py:1424: where (from tensorflow.python.ops.array_ops) is deprecated and will be removed in a future version.\n",
            "Instructions for updating:\n",
            "Use tf.where in 2.0, which has the same broadcast rule as np.where\n",
            "WARNING:tensorflow:From /usr/local/lib/python3.6/dist-packages/keras/backend/tensorflow_backend.py:1033: The name tf.assign_add is deprecated. Please use tf.compat.v1.assign_add instead.\n",
            "\n",
            "WARNING:tensorflow:From /usr/local/lib/python3.6/dist-packages/keras/backend/tensorflow_backend.py:1020: The name tf.assign is deprecated. Please use tf.compat.v1.assign instead.\n",
            "\n",
            "WARNING:tensorflow:From /usr/local/lib/python3.6/dist-packages/keras/backend/tensorflow_backend.py:3005: The name tf.Session is deprecated. Please use tf.compat.v1.Session instead.\n",
            "\n",
            "Epoch 1/100\n",
            "WARNING:tensorflow:From /usr/local/lib/python3.6/dist-packages/keras/backend/tensorflow_backend.py:190: The name tf.get_default_session is deprecated. Please use tf.compat.v1.get_default_session instead.\n",
            "\n",
            "WARNING:tensorflow:From /usr/local/lib/python3.6/dist-packages/keras/backend/tensorflow_backend.py:197: The name tf.ConfigProto is deprecated. Please use tf.compat.v1.ConfigProto instead.\n",
            "\n",
            "WARNING:tensorflow:From /usr/local/lib/python3.6/dist-packages/keras/backend/tensorflow_backend.py:207: The name tf.global_variables is deprecated. Please use tf.compat.v1.global_variables instead.\n",
            "\n",
            "WARNING:tensorflow:From /usr/local/lib/python3.6/dist-packages/keras/backend/tensorflow_backend.py:216: The name tf.is_variable_initialized is deprecated. Please use tf.compat.v1.is_variable_initialized instead.\n",
            "\n",
            "WARNING:tensorflow:From /usr/local/lib/python3.6/dist-packages/keras/backend/tensorflow_backend.py:223: The name tf.variables_initializer is deprecated. Please use tf.compat.v1.variables_initializer instead.\n",
            "\n",
            "806/806 [==============================] - 5s 7ms/step - loss: 0.0330\n",
            "Epoch 2/100\n",
            "806/806 [==============================] - 3s 3ms/step - loss: 0.0091\n",
            "Epoch 3/100\n",
            "806/806 [==============================] - 3s 3ms/step - loss: 0.0082\n",
            "Epoch 4/100\n",
            "806/806 [==============================] - 3s 3ms/step - loss: 0.0081\n",
            "Epoch 5/100\n",
            "806/806 [==============================] - 3s 3ms/step - loss: 0.0064\n",
            "Epoch 6/100\n",
            "806/806 [==============================] - 3s 3ms/step - loss: 0.0074\n",
            "Epoch 7/100\n",
            "806/806 [==============================] - 3s 3ms/step - loss: 0.0071\n",
            "Epoch 8/100\n",
            "806/806 [==============================] - 3s 3ms/step - loss: 0.0058\n",
            "Epoch 9/100\n",
            "806/806 [==============================] - 3s 3ms/step - loss: 0.0047\n",
            "Epoch 10/100\n",
            "806/806 [==============================] - 3s 3ms/step - loss: 0.0044\n",
            "Epoch 11/100\n",
            "806/806 [==============================] - 3s 3ms/step - loss: 0.0051\n",
            "Epoch 12/100\n",
            "806/806 [==============================] - 3s 3ms/step - loss: 0.0050\n",
            "Epoch 13/100\n",
            "806/806 [==============================] - 3s 3ms/step - loss: 0.0041\n",
            "Epoch 14/100\n",
            "806/806 [==============================] - 3s 3ms/step - loss: 0.0043\n",
            "Epoch 15/100\n",
            "806/806 [==============================] - 3s 3ms/step - loss: 0.0039\n",
            "Epoch 16/100\n",
            "806/806 [==============================] - 3s 3ms/step - loss: 0.0037\n",
            "Epoch 17/100\n",
            "806/806 [==============================] - 3s 3ms/step - loss: 0.0034\n",
            "Epoch 18/100\n",
            "806/806 [==============================] - 3s 3ms/step - loss: 0.0035\n",
            "Epoch 19/100\n",
            "806/806 [==============================] - 3s 3ms/step - loss: 0.0036\n",
            "Epoch 20/100\n",
            "806/806 [==============================] - 3s 3ms/step - loss: 0.0038\n",
            "Epoch 21/100\n",
            "806/806 [==============================] - 3s 3ms/step - loss: 0.0034\n",
            "Epoch 22/100\n",
            "806/806 [==============================] - 3s 3ms/step - loss: 0.0033\n",
            "Epoch 23/100\n",
            "806/806 [==============================] - 3s 3ms/step - loss: 0.0035\n",
            "Epoch 24/100\n",
            "806/806 [==============================] - 3s 3ms/step - loss: 0.0028\n",
            "Epoch 25/100\n",
            "806/806 [==============================] - 3s 3ms/step - loss: 0.0040\n",
            "Epoch 26/100\n",
            "806/806 [==============================] - 3s 3ms/step - loss: 0.0032\n",
            "Epoch 27/100\n",
            "806/806 [==============================] - 3s 3ms/step - loss: 0.0030\n",
            "Epoch 28/100\n",
            "806/806 [==============================] - 3s 3ms/step - loss: 0.0029\n",
            "Epoch 29/100\n",
            "806/806 [==============================] - 3s 3ms/step - loss: 0.0031\n",
            "Epoch 30/100\n",
            "806/806 [==============================] - 3s 3ms/step - loss: 0.0028\n",
            "Epoch 31/100\n",
            "806/806 [==============================] - 3s 3ms/step - loss: 0.0032\n",
            "Epoch 32/100\n",
            "806/806 [==============================] - 3s 3ms/step - loss: 0.0029\n",
            "Epoch 33/100\n",
            "806/806 [==============================] - 3s 3ms/step - loss: 0.0027\n",
            "Epoch 34/100\n",
            "806/806 [==============================] - 3s 3ms/step - loss: 0.0027\n",
            "Epoch 35/100\n",
            "806/806 [==============================] - 3s 3ms/step - loss: 0.0028\n",
            "Epoch 36/100\n",
            "806/806 [==============================] - 3s 3ms/step - loss: 0.0029\n",
            "Epoch 37/100\n",
            "806/806 [==============================] - 3s 3ms/step - loss: 0.0027\n",
            "Epoch 38/100\n",
            "806/806 [==============================] - 3s 3ms/step - loss: 0.0025\n",
            "Epoch 39/100\n",
            "806/806 [==============================] - 3s 3ms/step - loss: 0.0027\n",
            "Epoch 40/100\n",
            "806/806 [==============================] - 3s 3ms/step - loss: 0.0025\n",
            "Epoch 41/100\n",
            "806/806 [==============================] - 3s 3ms/step - loss: 0.0026\n",
            "Epoch 42/100\n",
            "806/806 [==============================] - 3s 3ms/step - loss: 0.0025\n",
            "Epoch 43/100\n",
            "806/806 [==============================] - 3s 3ms/step - loss: 0.0025\n",
            "Epoch 44/100\n",
            "806/806 [==============================] - 3s 3ms/step - loss: 0.0022\n",
            "Epoch 45/100\n",
            "806/806 [==============================] - 3s 3ms/step - loss: 0.0022\n",
            "Epoch 46/100\n",
            "806/806 [==============================] - 3s 3ms/step - loss: 0.0024\n",
            "Epoch 47/100\n",
            "806/806 [==============================] - 3s 3ms/step - loss: 0.0024\n",
            "Epoch 48/100\n",
            "806/806 [==============================] - 3s 3ms/step - loss: 0.0025\n",
            "Epoch 49/100\n",
            "806/806 [==============================] - 3s 3ms/step - loss: 0.0026\n",
            "Epoch 50/100\n",
            "806/806 [==============================] - 3s 3ms/step - loss: 0.0022\n",
            "Epoch 51/100\n",
            "806/806 [==============================] - 3s 3ms/step - loss: 0.0021\n",
            "Epoch 52/100\n",
            "806/806 [==============================] - 3s 3ms/step - loss: 0.0019\n",
            "Epoch 53/100\n",
            "806/806 [==============================] - 3s 3ms/step - loss: 0.0021\n",
            "Epoch 54/100\n",
            "806/806 [==============================] - 3s 3ms/step - loss: 0.0018\n",
            "Epoch 55/100\n",
            "806/806 [==============================] - 3s 3ms/step - loss: 0.0020\n",
            "Epoch 56/100\n",
            "806/806 [==============================] - 3s 3ms/step - loss: 0.0019\n",
            "Epoch 57/100\n",
            "806/806 [==============================] - 3s 3ms/step - loss: 0.0018\n",
            "Epoch 58/100\n",
            "806/806 [==============================] - 3s 3ms/step - loss: 0.0017\n",
            "Epoch 59/100\n",
            "806/806 [==============================] - 3s 3ms/step - loss: 0.0018\n",
            "Epoch 60/100\n",
            "806/806 [==============================] - 3s 3ms/step - loss: 0.0018\n",
            "Epoch 61/100\n",
            "806/806 [==============================] - 3s 3ms/step - loss: 0.0023\n",
            "Epoch 62/100\n",
            "806/806 [==============================] - 3s 3ms/step - loss: 0.0020\n",
            "Epoch 63/100\n",
            "806/806 [==============================] - 3s 3ms/step - loss: 0.0018\n",
            "Epoch 64/100\n",
            "806/806 [==============================] - 3s 3ms/step - loss: 0.0018\n",
            "Epoch 65/100\n",
            "806/806 [==============================] - 3s 3ms/step - loss: 0.0016\n",
            "Epoch 66/100\n",
            "806/806 [==============================] - 3s 3ms/step - loss: 0.0017\n",
            "Epoch 67/100\n",
            "806/806 [==============================] - 3s 3ms/step - loss: 0.0016\n",
            "Epoch 68/100\n",
            "806/806 [==============================] - 3s 3ms/step - loss: 0.0018\n",
            "Epoch 69/100\n",
            "806/806 [==============================] - 3s 3ms/step - loss: 0.0017\n",
            "Epoch 70/100\n",
            "806/806 [==============================] - 3s 3ms/step - loss: 0.0017\n",
            "Epoch 71/100\n",
            "806/806 [==============================] - 3s 3ms/step - loss: 0.0020\n",
            "Epoch 72/100\n",
            "806/806 [==============================] - 3s 3ms/step - loss: 0.0016\n",
            "Epoch 73/100\n",
            "806/806 [==============================] - 3s 3ms/step - loss: 0.0015\n",
            "Epoch 74/100\n",
            "806/806 [==============================] - 3s 3ms/step - loss: 0.0014\n",
            "Epoch 75/100\n",
            "806/806 [==============================] - 3s 3ms/step - loss: 0.0016\n",
            "Epoch 76/100\n",
            "806/806 [==============================] - 3s 3ms/step - loss: 0.0017\n",
            "Epoch 77/100\n",
            "806/806 [==============================] - 3s 3ms/step - loss: 0.0014\n",
            "Epoch 78/100\n",
            "806/806 [==============================] - 3s 3ms/step - loss: 0.0015\n",
            "Epoch 79/100\n",
            "806/806 [==============================] - 3s 3ms/step - loss: 0.0015\n",
            "Epoch 80/100\n",
            "806/806 [==============================] - 3s 3ms/step - loss: 0.0017\n",
            "Epoch 81/100\n",
            "806/806 [==============================] - 3s 3ms/step - loss: 0.0017\n",
            "Epoch 82/100\n",
            "806/806 [==============================] - 3s 3ms/step - loss: 0.0013\n",
            "Epoch 83/100\n",
            "806/806 [==============================] - 3s 3ms/step - loss: 0.0014\n",
            "Epoch 84/100\n",
            "806/806 [==============================] - 3s 3ms/step - loss: 0.0014\n",
            "Epoch 85/100\n",
            "806/806 [==============================] - 3s 3ms/step - loss: 0.0016\n",
            "Epoch 86/100\n",
            "806/806 [==============================] - 3s 3ms/step - loss: 0.0015\n",
            "Epoch 87/100\n",
            "806/806 [==============================] - 3s 3ms/step - loss: 0.0013\n",
            "Epoch 88/100\n",
            "806/806 [==============================] - 3s 3ms/step - loss: 0.0015\n",
            "Epoch 89/100\n",
            "806/806 [==============================] - 3s 3ms/step - loss: 0.0016\n",
            "Epoch 90/100\n",
            "806/806 [==============================] - 3s 3ms/step - loss: 0.0014\n",
            "Epoch 91/100\n",
            "806/806 [==============================] - 3s 3ms/step - loss: 0.0015\n",
            "Epoch 92/100\n",
            "806/806 [==============================] - 3s 3ms/step - loss: 0.0018\n",
            "Epoch 93/100\n",
            "806/806 [==============================] - 3s 3ms/step - loss: 0.0016\n",
            "Epoch 94/100\n",
            "806/806 [==============================] - 3s 3ms/step - loss: 0.0018\n",
            "Epoch 95/100\n",
            "806/806 [==============================] - 3s 3ms/step - loss: 0.0018\n",
            "Epoch 96/100\n",
            "806/806 [==============================] - 3s 3ms/step - loss: 0.0015\n",
            "Epoch 97/100\n",
            "806/806 [==============================] - 3s 3ms/step - loss: 0.0017\n",
            "Epoch 98/100\n",
            "806/806 [==============================] - 3s 3ms/step - loss: 0.0015\n",
            "Epoch 99/100\n",
            "806/806 [==============================] - 3s 3ms/step - loss: 0.0020\n",
            "Epoch 100/100\n",
            "806/806 [==============================] - 3s 3ms/step - loss: 0.0015\n"
          ],
          "name": "stdout"
        }
      ]
    },
    {
      "cell_type": "markdown",
      "metadata": {
        "id": "6C9jgr-8NoNK",
        "colab_type": "text"
      },
      "source": [
        "## Predicting the Future Prices"
      ]
    },
    {
      "cell_type": "code",
      "metadata": {
        "id": "a2tEbb3LDyrB",
        "colab_type": "code",
        "colab": {}
      },
      "source": [
        "predictions = model.predict(test_x)"
      ],
      "execution_count": 0,
      "outputs": []
    },
    {
      "cell_type": "markdown",
      "metadata": {
        "id": "AHXPL0AINueM",
        "colab_type": "text"
      },
      "source": [
        "## Plotting the Results"
      ]
    },
    {
      "cell_type": "code",
      "metadata": {
        "id": "FzXt4VySJdw-",
        "colab_type": "code",
        "colab": {
          "base_uri": "https://localhost:8080/",
          "height": 312
        },
        "outputId": "9e6712ad-df44-41e7-b9ab-f881e9785c96"
      },
      "source": [
        "# Reverse Preprocessing the Data\n",
        "training_labels  = scale.inverse_transform(train_y)\n",
        "original_labels  = scale.inverse_transform(test_y)\n",
        "predicted_labels = scale.inverse_transform(predictions)\n",
        "\n",
        "plt.plot(original_labels,  label='Original Price', color='k')\n",
        "plt.plot(predicted_labels, label='Predicted Price', color='red')\n",
        "plt.legend()\n",
        "plt.grid(1)\n",
        "plt.xlabel('Price')\n",
        "plt.title(f'Neural Network Results : {round(final_loss, 4)}')"
      ],
      "execution_count": 17,
      "outputs": [
        {
          "output_type": "execute_result",
          "data": {
            "text/plain": [
              "Text(0.5, 1.0, 'Neural Network Results : 0.0015')"
            ]
          },
          "metadata": {
            "tags": []
          },
          "execution_count": 17
        },
        {
          "output_type": "display_data",
          "data": {
            "image/png": "[encoded data removed]",
            "text/plain": [
              "<Figure size 432x288 with 1 Axes>"
            ]
          },
          "metadata": {
            "tags": []
          }
        }
      ]
    },
    {
      "cell_type": "code",
      "metadata": {
        "id": "U884a88LUsYA",
        "colab_type": "code",
        "colab": {}
      },
      "source": [
        ""
      ],
      "execution_count": 0,
      "outputs": []
    }
  ]
}