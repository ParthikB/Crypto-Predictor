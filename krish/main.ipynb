{
 "cells": [
  {
   "cell_type": "code",
   "execution_count": 1,
   "metadata": {},
   "outputs": [],
   "source": [
    "import pandas as pd\n",
    "import numpy as np\n",
    "import matplotlib.pyplot as plt\n",
    "\n",
    "%matplotlib inline"
   ]
  },
  {
   "cell_type": "code",
   "execution_count": 2,
   "metadata": {},
   "outputs": [
    {
     "data": {
      "text/html": [
       "<div>\n",
       "<style scoped>\n",
       "    .dataframe tbody tr th:only-of-type {\n",
       "        vertical-align: middle;\n",
       "    }\n",
       "\n",
       "    .dataframe tbody tr th {\n",
       "        vertical-align: top;\n",
       "    }\n",
       "\n",
       "    .dataframe thead th {\n",
       "        text-align: right;\n",
       "    }\n",
       "</style>\n",
       "<table border=\"1\" class=\"dataframe\">\n",
       "  <thead>\n",
       "    <tr style=\"text-align: right;\">\n",
       "      <th></th>\n",
       "      <th>Date</th>\n",
       "      <th>Symbol</th>\n",
       "      <th>Open</th>\n",
       "      <th>High</th>\n",
       "      <th>Low</th>\n",
       "      <th>Close</th>\n",
       "      <th>Volume BTC</th>\n",
       "      <th>Volume USDT</th>\n",
       "    </tr>\n",
       "    <tr>\n",
       "      <th>Date</th>\n",
       "      <th></th>\n",
       "      <th></th>\n",
       "      <th></th>\n",
       "      <th></th>\n",
       "      <th></th>\n",
       "      <th></th>\n",
       "      <th></th>\n",
       "      <th></th>\n",
       "    </tr>\n",
       "  </thead>\n",
       "  <tbody>\n",
       "    <tr>\n",
       "      <th>2017-01-09</th>\n",
       "      <td>2017-01-09</td>\n",
       "      <td>BTCUSDT</td>\n",
       "      <td>4724.89</td>\n",
       "      <td>4885.55</td>\n",
       "      <td>4654.88</td>\n",
       "      <td>4834.91</td>\n",
       "      <td>554.18</td>\n",
       "      <td>2634056.29</td>\n",
       "    </tr>\n",
       "    <tr>\n",
       "      <th>2017-01-10</th>\n",
       "      <td>2017-01-10</td>\n",
       "      <td>BTCUSDT</td>\n",
       "      <td>4378.51</td>\n",
       "      <td>4406.52</td>\n",
       "      <td>4240.04</td>\n",
       "      <td>4378.48</td>\n",
       "      <td>724.90</td>\n",
       "      <td>3128231.71</td>\n",
       "    </tr>\n",
       "    <tr>\n",
       "      <th>2017-01-11</th>\n",
       "      <td>2017-01-11</td>\n",
       "      <td>BTCUSDT</td>\n",
       "      <td>6463.00</td>\n",
       "      <td>6774.67</td>\n",
       "      <td>6338.02</td>\n",
       "      <td>6753.98</td>\n",
       "      <td>1659.85</td>\n",
       "      <td>10848260.96</td>\n",
       "    </tr>\n",
       "    <tr>\n",
       "      <th>2017-01-12</th>\n",
       "      <td>2017-01-12</td>\n",
       "      <td>BTCUSDT</td>\n",
       "      <td>9838.96</td>\n",
       "      <td>10898.00</td>\n",
       "      <td>9380.00</td>\n",
       "      <td>10782.99</td>\n",
       "      <td>6033.85</td>\n",
       "      <td>61238619.44</td>\n",
       "    </tr>\n",
       "    <tr>\n",
       "      <th>2017-02-09</th>\n",
       "      <td>2017-02-09</td>\n",
       "      <td>BTCUSDT</td>\n",
       "      <td>4834.91</td>\n",
       "      <td>4939.19</td>\n",
       "      <td>4286.87</td>\n",
       "      <td>4472.14</td>\n",
       "      <td>888.18</td>\n",
       "      <td>4072965.36</td>\n",
       "    </tr>\n",
       "  </tbody>\n",
       "</table>\n",
       "</div>"
      ],
      "text/plain": [
       "                 Date   Symbol     Open      High      Low     Close  \\\n",
       "Date                                                                   \n",
       "2017-01-09 2017-01-09  BTCUSDT  4724.89   4885.55  4654.88   4834.91   \n",
       "2017-01-10 2017-01-10  BTCUSDT  4378.51   4406.52  4240.04   4378.48   \n",
       "2017-01-11 2017-01-11  BTCUSDT  6463.00   6774.67  6338.02   6753.98   \n",
       "2017-01-12 2017-01-12  BTCUSDT  9838.96  10898.00  9380.00  10782.99   \n",
       "2017-02-09 2017-02-09  BTCUSDT  4834.91   4939.19  4286.87   4472.14   \n",
       "\n",
       "            Volume BTC  Volume USDT  \n",
       "Date                                 \n",
       "2017-01-09      554.18   2634056.29  \n",
       "2017-01-10      724.90   3128231.71  \n",
       "2017-01-11     1659.85  10848260.96  \n",
       "2017-01-12     6033.85  61238619.44  \n",
       "2017-02-09      888.18   4072965.36  "
      ]
     },
     "execution_count": 2,
     "metadata": {},
     "output_type": "execute_result"
    }
   ],
   "source": [
    "# Reading the DATASET\n",
    "df = pd.read_csv('datasets/Binance_BTCUSDT_d.csv')\n",
    "# Converting the 'Date' column into pandas date_time format\n",
    "df['Date'] = df['Date'].apply(pd.to_datetime)\n",
    "# Setting the 'Date' col to be the index\n",
    "df.index = df['Date']\n",
    "# Sorting the Dataset on the basis of the index\n",
    "df.sort_index(inplace=True)\n",
    "\n",
    "df.head()"
   ]
  },
  {
   "cell_type": "code",
   "execution_count": 14,
   "metadata": {},
   "outputs": [
    {
     "name": "stdout",
     "output_type": "stream",
     "text": [
      "Size of Training Data : 250\n",
      "Size of Training Data : 585\n"
     ]
    }
   ],
   "source": [
    "# Seleting the column to predict\n",
    "col = 'Open'\n",
    "data = df[col]\n",
    "\n",
    "# Splitting the Data into Training and Test Set\n",
    "TRAIN_SPLIT_PERCENTAGE = 0.3\n",
    "part = (int(TRAIN_SPLIT_PERCENTAGE * len(data)))\n",
    "\n",
    "train_data = data[:part]\n",
    "test_data = data[part:]\n",
    "\n",
    "print(f\"\"\"Size of Training Data : {len(train_data)}\n",
    "Size of Training Data : {len(test_data)}\"\"\")"
   ]
  },
  {
   "cell_type": "code",
   "execution_count": null,
   "metadata": {},
   "outputs": [],
   "source": [
    "\n"
   ]
  }
 ],
 "metadata": {
  "kernelspec": {
   "display_name": "Python 3",
   "language": "python",
   "name": "python3"
  },
  "language_info": {
   "codemirror_mode": {
    "name": "ipython",
    "version": 3
   },
   "file_extension": ".py",
   "mimetype": "text/x-python",
   "name": "python",
   "nbconvert_exporter": "python",
   "pygments_lexer": "ipython3",
   "version": "3.6.9"
  }
 },
 "nbformat": 4,
 "nbformat_minor": 4
}
